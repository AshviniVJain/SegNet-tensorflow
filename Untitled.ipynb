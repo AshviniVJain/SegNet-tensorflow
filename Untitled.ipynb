{
 "cells": [
  {
   "cell_type": "code",
   "execution_count": null,
   "metadata": {},
   "outputs": [
    {
     "name": "stdout",
     "output_type": "stream",
     "text": [
      "conv5_1 (3, 3, 512, 512) (512,)\n",
      "fc6 (25088, 4096) (4096,)\n",
      "conv5_3 (3, 3, 512, 512) (512,)\n",
      "conv5_2 (3, 3, 512, 512) (512,)\n",
      "fc8 (4096, 1000) (1000,)\n",
      "fc7 (4096, 4096) (4096,)\n",
      "conv4_1 (3, 3, 256, 512) (512,)\n",
      "conv4_2 (3, 3, 512, 512) (512,)\n",
      "conv4_3 (3, 3, 512, 512) (512,)\n",
      "conv3_3 (3, 3, 256, 256) (256,)\n",
      "conv3_2 (3, 3, 256, 256) (256,)\n",
      "conv3_1 (3, 3, 128, 256) (256,)\n",
      "conv1_1 (3, 3, 3, 64) (64,)\n",
      "conv1_2 (3, 3, 64, 64) (64,)\n",
      "conv2_2 (3, 3, 128, 128) (128,)\n",
      "conv2_1 (3, 3, 64, 128) (128,)\n",
      "vgg parameter loaded\n"
     ]
    }
   ],
   "source": [
    "import segnet_model"
   ]
  },
  {
   "cell_type": "code",
   "execution_count": null,
   "metadata": {},
   "outputs": [
    {
     "name": "stdout",
     "output_type": "stream",
     "text": [
      "Filling queue with 146 CamVid images before starting to train. This will take a few minutes.\n",
      "Filling queue with 146 CamVid images before starting to train. This will take a few minutes.\n",
      "Tensor(\"conv1_1/Relu:0\", shape=(5, 360, 480, 64), dtype=float32)\n",
      "Tensor(\"conv1_2/Relu:0\", shape=(5, 360, 480, 64), dtype=float32)\n",
      "value shape (5, 180, 240, 64)\n",
      "index shape (5, 180, 240, 64)\n",
      "Tensor(\"conv2_1/Relu:0\", shape=(5, 180, 240, 128), dtype=float32)\n",
      "Tensor(\"conv2_2/Relu:0\", shape=(5, 180, 240, 128), dtype=float32)\n",
      "value shape (5, 90, 120, 128)\n",
      "index shape (5, 90, 120, 128)\n",
      "Tensor(\"conv3_1/Relu:0\", shape=(5, 90, 120, 256), dtype=float32)\n",
      "Tensor(\"conv3_2/Relu:0\", shape=(5, 90, 120, 256), dtype=float32)\n",
      "Tensor(\"conv3_3/Relu:0\", shape=(5, 90, 120, 256), dtype=float32)\n",
      "value shape (5, 45, 60, 256)\n",
      "index shape (5, 45, 60, 256)\n",
      "Tensor(\"conv4_1/Relu:0\", shape=(5, 45, 60, 512), dtype=float32)\n",
      "Tensor(\"conv4_2/Relu:0\", shape=(5, 45, 60, 512), dtype=float32)\n",
      "Tensor(\"conv4_3/Relu:0\", shape=(5, 45, 60, 512), dtype=float32)\n",
      "value shape (5, 23, 30, 512)\n",
      "index shape (5, 23, 30, 512)\n",
      "Tensor(\"conv5_1/Relu:0\", shape=(5, 23, 30, 512), dtype=float32)\n",
      "Tensor(\"conv5_2/Relu:0\", shape=(5, 23, 30, 512), dtype=float32)\n",
      "Tensor(\"conv5_3/Relu:0\", shape=(5, 23, 30, 512), dtype=float32)\n",
      "value shape (5, 12, 15, 512)\n",
      "index shape (5, 12, 15, 512)\n",
      "The shape of reshaped maxindex (460800,)\n",
      "The shape of 4d indices (460800, 4)\n",
      "The shape of sparse matrix (5, 23, 30, 512)\n",
      "Tensor(\"deconv1_2/Relu:0\", shape=(5, 23, 30, 512), dtype=float32)\n",
      "Tensor(\"deconv1_3/Relu:0\", shape=(5, 23, 30, 512), dtype=float32)\n",
      "Tensor(\"deconv1_4/Relu:0\", shape=(5, 23, 30, 512), dtype=float32)\n",
      "The shape of reshaped maxindex (1766400,)\n",
      "The shape of 4d indices (1766400, 4)\n",
      "The shape of sparse matrix (5, 45, 60, 512)\n",
      "Tensor(\"deconv2_2/Relu:0\", shape=(5, 45, 60, 512), dtype=float32)\n",
      "Tensor(\"deconv2_3/Relu:0\", shape=(5, 45, 60, 512), dtype=float32)\n",
      "Tensor(\"deconv2_4/Relu:0\", shape=(5, 45, 60, 256), dtype=float32)\n",
      "The shape of reshaped maxindex (3456000,)\n",
      "The shape of 4d indices (3456000, 4)\n",
      "The shape of sparse matrix (5, 90, 120, 256)\n",
      "Tensor(\"deconv3_2/Relu:0\", shape=(5, 90, 120, 256), dtype=float32)\n",
      "Tensor(\"deconv3_3/Relu:0\", shape=(5, 90, 120, 256), dtype=float32)\n",
      "Tensor(\"deconv3_4/Relu:0\", shape=(5, 90, 120, 128), dtype=float32)\n",
      "The shape of reshaped maxindex (6912000,)\n",
      "The shape of 4d indices (6912000, 4)\n",
      "The shape of sparse matrix (5, 180, 240, 128)\n",
      "Tensor(\"deconv4_2/Relu:0\", shape=(5, 180, 240, 128), dtype=float32)\n",
      "Tensor(\"deconv4_3/Relu:0\", shape=(5, 180, 240, 64), dtype=float32)\n",
      "The shape of reshaped maxindex (13824000,)\n",
      "The shape of 4d indices (13824000, 4)\n",
      "The shape of sparse matrix (5, 360, 480, 64)\n",
      "Tensor(\"deconv5_2/Relu:0\", shape=(5, 360, 480, 64), dtype=float32)\n",
      "Tensor(\"deconv5_3/Relu:0\", shape=(5, 360, 480, 11), dtype=float32)\n",
      "Tensor(\"Reshape_15:0\", shape=(864000,), dtype=int32)\n",
      "Tensor(\"Reshape_16:0\", shape=(864000, 11), dtype=float32)\n",
      "Tensor(\"cross_entropy:0\", shape=(), dtype=float32)\n",
      "start validating.......\n",
      "Epoch 0: Train Loss  0.973, Train Accu 0.017, Val Loss  5.000, Val Acc  0.057\n",
      "start validating.......\n",
      "Epoch 10: Train Loss  3.065, Train Accu 0.011, Val Loss  3.723, Val Acc  0.008\n",
      "start validating.......\n",
      "Epoch 20: Train Loss  2.986, Train Accu 0.009, Val Loss  3.931, Val Acc  0.009\n",
      "start validating.......\n",
      "Epoch 30: Train Loss  2.373, Train Accu 0.007, Val Loss  3.727, Val Acc  0.010\n",
      "start validating.......\n",
      "Epoch 40: Train Loss  2.744, Train Accu 0.029, Val Loss  4.608, Val Acc  0.007\n"
     ]
    }
   ],
   "source": [
    "result = segnet_model.TRAINING()"
   ]
  }
 ],
 "metadata": {
  "kernelspec": {
   "display_name": "Python 3 (tensorflow)",
   "language": "python",
   "name": "tensorflow"
  },
  "language_info": {
   "codemirror_mode": {
    "name": "ipython",
    "version": 3
   },
   "file_extension": ".py",
   "mimetype": "text/x-python",
   "name": "python",
   "nbconvert_exporter": "python",
   "pygments_lexer": "ipython3",
   "version": "3.6.2"
  }
 },
 "nbformat": 4,
 "nbformat_minor": 2
}
