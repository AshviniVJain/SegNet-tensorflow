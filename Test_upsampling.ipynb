{
 "cells": [
  {
   "cell_type": "code",
   "execution_count": null,
   "metadata": {
    "collapsed": true
   },
   "outputs": [],
   "source": [
    "#Test unravel and also upsampling method!\n",
    "import tensorflow as tf\n",
    "import numpy as np\n",
    "\n",
    "\n",
    "def max_pool(inputs,name):\n",
    "    value,index = tf.nn.max_pool_with_argmax(inputs,ksize=[1,2,2,1],strides=[1,2,2,1],padding='SAME',name=name,\n",
    "                                            Targmax = tf.int32)\n",
    "    print('value shape',value.shape)\n",
    "    print('index shape',index.shape)\n",
    "    \n",
    "    return value,index\n",
    "\n",
    "\n",
    "\n",
    "def unravel_index(indices, shape):\n",
    "    with tf.name_scope('unravel_index'):\n",
    "        indices = tf.expand_dims(indices, 0)\n",
    "        shape = tf.expand_dims(shape, 1)\n",
    "        strides = tf.cumprod(shape, reverse=True)\n",
    "        strides_shifted = tf.cumprod(shape, exclusive=True, reverse=True)\n",
    "        return (indices % strides) // strides_shifted\n",
    "    #This function is utilized to transform the flattened maxpooling index to the original 4D tensor, and have already test\n",
    "    #it, which works brilliant!\n",
    "    \"\"\"\n",
    "    indices: indices will be the output index from maxpooling, just to make sure if it's only 1D!\n",
    "    Shape: the shape of the original data,[batch_size,height,width,Num_of_Channels]\n",
    "    output: It's the 4D maxpooling indices!\n",
    "    \"\"\"\n",
    "    \n",
    "def up_sampling(value,indices,shape):\n",
    "    \"\"\"\n",
    "    Inputs:\n",
    "    value: the maximum value from maxpooling function, value need to be a tensor. The most important thing for\n",
    "    value is that it needs to be reshaped to be only one column! \n",
    "    indices: the flattened position for the maximum value from maxpooling function. Also indices need to be reshaped\n",
    "    to be two dimension. [Num_tot_values,4]. 4 is because we have 4 dimension\n",
    "    shape: the shape of the original data, [batch_size,height,width,Num_of_Channels]\n",
    "    Outputs:\n",
    "    up_sample_sp: The sparse matrix from the up_sampling.\n",
    "    \"\"\"\n",
    "    mx_sh = value.shape\n",
    "    tot = mx_sh[0].value*mx_sh[1].value*mx_sh[2].value*mx_sh[3].value\n",
    "    value_reshape = tf.reshape(value,[tot])\n",
    "    index_reshape = tf.reshape(indices,[1,tot])\n",
    "    print('The shape of reshaped maxvalue',value_reshape.shape)\n",
    "    print('The shape of reshaped maxindex',index_reshape.shape)\n",
    "    pooling_index_4d = tf.to_int64(unravel_index(index_reshape,shape),name='ToInt64')\n",
    "    print('The shape of 4d indices', pooling_index_4d.shape)\n",
    "    s = tf.Session()\n",
    "    sp_tensor = tf.SparseTensor(tf.reshape(pooling_index_4d,\n",
    "                                           [pooling_index_4d.shape[2].value,\n",
    "                                            pooling_index_4d.shape[1].value]),\n",
    "                                            values = value_reshape, dense_shape = shape)\n",
    "    sp_dense = tf.sparse_tensor_to_dense(sp_tensor)\n",
    "    print('The sp_dense?',s.run(sp_dense))\n",
    "    print('The shape of sparse matrix', sp_dense.shape)\n",
    "    return s.run(sp_dense) \n"
   ]
  },
  {
   "cell_type": "code",
   "execution_count": null,
   "metadata": {
    "scrolled": false
   },
   "outputs": [],
   "source": [
    "# let's assume that inputs is a matrix which is 4D matrix, the dimension is (Num_Batch, width, height, Num_channel)\n",
    "shape = [1,5,5,2]\n",
    "temp = np.random.randint(20,size=shape)\n",
    "max_value, max_index = max_pool(temp,name='PLAY')\n",
    "value = max_value\n",
    "indices = max_index\n"
   ]
  },
  {
   "cell_type": "code",
   "execution_count": null,
   "metadata": {
    "scrolled": false
   },
   "outputs": [],
   "source": [
    "mx_sh = value.shape\n",
    "tot = mx_sh[0].value*mx_sh[1].value*mx_sh[2].value*mx_sh[3].value\n",
    "value_reshape = tf.reshape(value,[tot])\n",
    "index_reshape = tf.reshape(indices,[1,tot])\n",
    "print('The shape of reshaped maxvalue',value_reshape.shape)\n",
    "print('The shape of reshaped maxindex',index_reshape.shape)\n",
    "pooling_index_4d = tf.to_int64(unravel_index(index_reshape,shape),name='ToInt64')\n",
    "print('The shape of 4d indices', pooling_index_4d.shape)\n",
    "s = tf.Session()\n",
    "sp_tensor = tf.SparseTensor(tf.reshape(pooling_index_4d,\n",
    "                                       [pooling_index_4d.shape[2].value,\n",
    "                                        pooling_index_4d.shape[1].value]),\n",
    "                            values = value_reshape, dense_shape = shape)\n",
    "sp_dense = tf.sparse_tensor_to_dense(sp_tensor)"
   ]
  },
  {
   "cell_type": "code",
   "execution_count": null,
   "metadata": {
    "scrolled": false
   },
   "outputs": [],
   "source": [
    "s.run(sp_dense)"
   ]
  },
  {
   "cell_type": "code",
   "execution_count": null,
   "metadata": {},
   "outputs": [],
   "source": []
  },
  {
   "cell_type": "code",
   "execution_count": null,
   "metadata": {},
   "outputs": [],
   "source": []
  },
  {
   "cell_type": "code",
   "execution_count": null,
   "metadata": {
    "collapsed": true
   },
   "outputs": [],
   "source": []
  }
 ],
 "metadata": {
  "kernelspec": {
   "display_name": "Python 3",
   "language": "python",
   "name": "python3"
  },
  "language_info": {
   "codemirror_mode": {
    "name": "ipython",
    "version": 3
   },
   "file_extension": ".py",
   "mimetype": "text/x-python",
   "name": "python",
   "nbconvert_exporter": "python",
   "pygments_lexer": "ipython3",
   "version": "3.6.1"
  }
 },
 "nbformat": 4,
 "nbformat_minor": 2
}
