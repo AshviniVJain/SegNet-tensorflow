{
 "cells": [
  {
   "cell_type": "code",
   "execution_count": 1,
   "metadata": {
    "collapsed": true
   },
   "outputs": [],
   "source": [
    "import SegNet"
   ]
  },
  {
   "cell_type": "code",
   "execution_count": 2,
   "metadata": {},
   "outputs": [
    {
     "name": "stdout",
     "output_type": "stream",
     "text": [
      "VGG parameter loaded\n"
     ]
    }
   ],
   "source": [
    "model = SegNet.SegNet()"
   ]
  },
  {
   "cell_type": "code",
   "execution_count": 3,
   "metadata": {},
   "outputs": [
    {
     "name": "stdout",
     "output_type": "stream",
     "text": [
      "Filling queue with 300 input images before starting to train. This may take some time.\n",
      "generating image and label batch:\n",
      "Filling queue with 300 input images before starting to train. This may take some time.\n",
      "generating image and label batch:\n",
      "Running with Adam Optimizer with learning rate: 0.001\n",
      "Iteration 0: Train Loss 2.778, Train Accu  0.071\n",
      "accuracy = 0.165376\n",
      "mean IU  = 0.044376\n",
      "    class # 0 accuracy = 0.668194 \n",
      "    class # 1 accuracy = 0.031289 \n",
      "    class # 2 accuracy = 0.000000 \n",
      "    class # 3 accuracy = 0.106664 \n",
      "    class # 4 accuracy = 0.195817 \n",
      "    class # 5 accuracy = 0.131601 \n",
      "    class # 6 accuracy = 0.036749 \n",
      "    class # 7 accuracy = 0.216237 \n",
      "    class # 8 accuracy = 0.022361 \n",
      "    class # 9 accuracy = 0.000000 \n",
      "    class # 10 accuracy = 0.003079 \n",
      "    class # 11 accuracy = 0.044019 \n",
      "per_class accuracy by logits in training time None\n",
      "start validating.......\n",
      "accuracy = 0.136574\n",
      "mean IU  = 0.040480\n",
      "    class # 0 accuracy = 0.617058 \n",
      "    class # 1 accuracy = 0.031912 \n",
      "    class # 2 accuracy = 0.000033 \n",
      "    class # 3 accuracy = 0.100605 \n",
      "    class # 4 accuracy = 0.163395 \n",
      "    class # 5 accuracy = 0.122693 \n",
      "    class # 6 accuracy = 0.040236 \n",
      "    class # 7 accuracy = 0.208897 \n",
      "    class # 8 accuracy = 0.010326 \n",
      "    class # 9 accuracy = 0.000031 \n",
      "    class # 10 accuracy = 0.003531 \n",
      "    class # 11 accuracy = 0.053471 \n",
      "Iteration 0: Train Loss  2.778, Train Acc  0.071, Val Loss  2.503, Val Acc  0.137\n"
     ]
    }
   ],
   "source": [
    "model.train(max_steps=1)"
   ]
  },
  {
   "cell_type": "code",
   "execution_count": 4,
   "metadata": {},
   "outputs": [],
   "source": [
    "model.save()"
   ]
  }
 ],
 "metadata": {
  "kernelspec": {
   "display_name": "Python 3 (tensorflow)",
   "language": "python",
   "name": "tensorflow"
  },
  "language_info": {
   "codemirror_mode": {
    "name": "ipython",
    "version": 3
   },
   "file_extension": ".py",
   "mimetype": "text/x-python",
   "name": "python",
   "nbconvert_exporter": "python",
   "pygments_lexer": "ipython3",
   "version": "3.6.2"
  }
 },
 "nbformat": 4,
 "nbformat_minor": 2
}
