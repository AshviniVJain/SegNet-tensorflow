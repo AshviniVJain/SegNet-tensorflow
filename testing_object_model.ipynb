{
 "cells": [
  {
   "cell_type": "code",
   "execution_count": 1,
   "metadata": {
    "collapsed": true
   },
   "outputs": [],
   "source": [
    "import SegNet"
   ]
  },
  {
   "cell_type": "code",
   "execution_count": 2,
   "metadata": {},
   "outputs": [
    {
     "name": "stdout",
     "output_type": "stream",
     "text": [
      "VGG parameter loaded\n"
     ]
    }
   ],
   "source": [
    "model = SegNet.SegNet()"
   ]
  },
  {
   "cell_type": "code",
   "execution_count": 3,
   "metadata": {},
   "outputs": [
    {
     "name": "stdout",
     "output_type": "stream",
     "text": [
      "Filling queue with 300 input images before starting to train. This may take some time.\n",
      "generating image and label batch:\n",
      "Filling queue with 300 input images before starting to train. This may take some time.\n",
      "generating image and label batch:\n",
      "Running with Adam Optimizer with learning rate: 0.001\n",
      "Iteration 0: Train Loss 2.829, Train Accu  0.051\n",
      "accuracy = 0.053843\n",
      "mean IU  = 0.019496\n",
      "    class # 0 accuracy = 0.042053 \n",
      "    class # 1 accuracy = 0.037221 \n",
      "    class # 2 accuracy = 0.085761 \n",
      "    class # 3 accuracy = 0.063883 \n",
      "    class # 4 accuracy = 0.030691 \n",
      "    class # 5 accuracy = 0.060509 \n",
      "    class # 6 accuracy = 0.496190 \n",
      "    class # 7 accuracy = 0.014103 \n",
      "    class # 8 accuracy = 0.003659 \n",
      "    class # 9 accuracy = 0.000000 \n",
      "    class # 10 accuracy = 0.005988 \n",
      "    class # 11 accuracy = 0.127737 \n",
      "per_class accuracy by logits in training time None\n",
      "start validating.......\n",
      "accuracy = 0.050591\n",
      "mean IU  = 0.018725\n",
      "    class # 0 accuracy = 0.034759 \n",
      "    class # 1 accuracy = 0.038658 \n",
      "    class # 2 accuracy = 0.095817 \n",
      "    class # 3 accuracy = 0.062521 \n",
      "    class # 4 accuracy = 0.032514 \n",
      "    class # 5 accuracy = 0.056137 \n",
      "    class # 6 accuracy = 0.489413 \n",
      "    class # 7 accuracy = 0.014274 \n",
      "    class # 8 accuracy = 0.003481 \n",
      "    class # 9 accuracy = 0.002619 \n",
      "    class # 10 accuracy = 0.003644 \n",
      "    class # 11 accuracy = 0.133166 \n",
      "Iteration 0: Train Loss  2.829, Train Acc  0.051, Val Loss  2.799, Val Acc  0.051\n",
      "Iteration 1: Train Loss 2.779, Train Accu  0.054\n",
      "Iteration 2: Train Loss 2.733, Train Accu  0.059\n",
      "Iteration 3: Train Loss 2.528, Train Accu  0.089\n",
      "Iteration 4: Train Loss 2.294, Train Accu  0.167\n",
      "Iteration 5: Train Loss 2.106, Train Accu  0.264\n",
      "Iteration 6: Train Loss 1.903, Train Accu  0.363\n",
      "Iteration 7: Train Loss 1.949, Train Accu  0.366\n",
      "Iteration 8: Train Loss 1.763, Train Accu  0.467\n",
      "Iteration 9: Train Loss 1.640, Train Accu  0.561\n",
      "Iteration 10: Train Loss 1.747, Train Accu  0.482\n",
      "Iteration 11: Train Loss 1.451, Train Accu  0.626\n",
      "Iteration 12: Train Loss 1.412, Train Accu  0.649\n",
      "Iteration 13: Train Loss 1.325, Train Accu  0.665\n",
      "Iteration 14: Train Loss 1.484, Train Accu  0.553\n",
      "Iteration 15: Train Loss 1.745, Train Accu  0.477\n",
      "Iteration 16: Train Loss 1.035, Train Accu  0.765\n",
      "Iteration 17: Train Loss 1.282, Train Accu  0.634\n",
      "Iteration 18: Train Loss 1.277, Train Accu  0.632\n",
      "Iteration 19: Train Loss 1.182, Train Accu  0.644\n",
      "Iteration 20: Train Loss 1.291, Train Accu  0.584\n",
      "Iteration 21: Train Loss 1.445, Train Accu  0.510\n",
      "Iteration 22: Train Loss 1.115, Train Accu  0.728\n",
      "Iteration 23: Train Loss 1.335, Train Accu  0.508\n",
      "Iteration 24: Train Loss 1.083, Train Accu  0.678\n",
      "Iteration 25: Train Loss 1.136, Train Accu  0.664\n",
      "Iteration 26: Train Loss 1.285, Train Accu  0.601\n",
      "Iteration 27: Train Loss 1.026, Train Accu  0.688\n",
      "Iteration 28: Train Loss 1.292, Train Accu  0.626\n",
      "Iteration 29: Train Loss 0.980, Train Accu  0.778\n",
      "Iteration 30: Train Loss 1.083, Train Accu  0.710\n",
      "Iteration 31: Train Loss 1.013, Train Accu  0.711\n",
      "Iteration 32: Train Loss 1.061, Train Accu  0.658\n",
      "Iteration 33: Train Loss 0.974, Train Accu  0.712\n",
      "Iteration 34: Train Loss 0.965, Train Accu  0.706\n",
      "Iteration 35: Train Loss 1.289, Train Accu  0.532\n",
      "Iteration 36: Train Loss 1.064, Train Accu  0.681\n",
      "Iteration 37: Train Loss 1.187, Train Accu  0.640\n",
      "Iteration 38: Train Loss 1.060, Train Accu  0.695\n",
      "Iteration 39: Train Loss 1.028, Train Accu  0.698\n",
      "Iteration 40: Train Loss 1.138, Train Accu  0.627\n",
      "Iteration 41: Train Loss 0.969, Train Accu  0.701\n",
      "Iteration 42: Train Loss 1.183, Train Accu  0.670\n",
      "Iteration 43: Train Loss 1.036, Train Accu  0.665\n",
      "Iteration 44: Train Loss 0.904, Train Accu  0.735\n",
      "Iteration 45: Train Loss 0.766, Train Accu  0.787\n",
      "Iteration 46: Train Loss 1.038, Train Accu  0.685\n",
      "Iteration 47: Train Loss 1.100, Train Accu  0.658\n",
      "Iteration 48: Train Loss 0.928, Train Accu  0.729\n",
      "Iteration 49: Train Loss 1.107, Train Accu  0.580\n",
      "Iteration 50: Train Loss 1.046, Train Accu  0.640\n",
      "Iteration 51: Train Loss 1.101, Train Accu  0.680\n",
      "Iteration 52: Train Loss 0.984, Train Accu  0.664\n",
      "Iteration 53: Train Loss 0.990, Train Accu  0.667\n",
      "Iteration 54: Train Loss 1.059, Train Accu  0.591\n",
      "Iteration 55: Train Loss 0.913, Train Accu  0.746\n",
      "Iteration 56: Train Loss 1.579, Train Accu  0.473\n",
      "Iteration 57: Train Loss 1.113, Train Accu  0.638\n",
      "Iteration 58: Train Loss 0.894, Train Accu  0.740\n",
      "Iteration 59: Train Loss 1.178, Train Accu  0.550\n",
      "Iteration 60: Train Loss 1.185, Train Accu  0.669\n",
      "Iteration 61: Train Loss 0.999, Train Accu  0.697\n",
      "Iteration 62: Train Loss 1.121, Train Accu  0.609\n",
      "Iteration 63: Train Loss 1.193, Train Accu  0.593\n",
      "Iteration 64: Train Loss 0.839, Train Accu  0.736\n",
      "Iteration 65: Train Loss 1.191, Train Accu  0.616\n",
      "Iteration 66: Train Loss 0.900, Train Accu  0.769\n",
      "Iteration 67: Train Loss 0.901, Train Accu  0.697\n",
      "Iteration 68: Train Loss 1.001, Train Accu  0.709\n",
      "Iteration 69: Train Loss 0.921, Train Accu  0.739\n",
      "Iteration 70: Train Loss 0.794, Train Accu  0.796\n",
      "Iteration 71: Train Loss 0.907, Train Accu  0.723\n",
      "Iteration 72: Train Loss 0.778, Train Accu  0.764\n",
      "Iteration 73: Train Loss 0.972, Train Accu  0.668\n",
      "Iteration 74: Train Loss 0.844, Train Accu  0.740\n",
      "Iteration 75: Train Loss 0.791, Train Accu  0.786\n",
      "Iteration 76: Train Loss 0.745, Train Accu  0.779\n",
      "Iteration 77: Train Loss 1.208, Train Accu  0.630\n",
      "Iteration 78: Train Loss 0.929, Train Accu  0.677\n"
     ]
    },
    {
     "ename": "KeyboardInterrupt",
     "evalue": "",
     "output_type": "error",
     "traceback": [
      "\u001b[0;31m---------------------------------------------------------------------------\u001b[0m",
      "\u001b[0;31mKeyboardInterrupt\u001b[0m                         Traceback (most recent call last)",
      "\u001b[0;32m<ipython-input-3-41a4eef707c6>\u001b[0m in \u001b[0;36m<module>\u001b[0;34m()\u001b[0m\n\u001b[0;32m----> 1\u001b[0;31m \u001b[0mmodel\u001b[0m\u001b[0;34m.\u001b[0m\u001b[0mtrain\u001b[0m\u001b[0;34m(\u001b[0m\u001b[0mmax_steps\u001b[0m\u001b[0;34m=\u001b[0m\u001b[0;36m1001\u001b[0m\u001b[0;34m)\u001b[0m\u001b[0;34m\u001b[0m\u001b[0m\n\u001b[0m",
      "\u001b[0;32m~/Documents/DTU/02456-deep-learning/project_repo/project/SegNet.py\u001b[0m in \u001b[0;36mtrain\u001b[0;34m(self, max_steps, batch_size)\u001b[0m\n\u001b[1;32m    210\u001b[0m \u001b[0;34m\u001b[0m\u001b[0m\n\u001b[1;32m    211\u001b[0m                     _, _loss, _accuracy, summary = self.sess.run([train, loss, accuracy, summary_op],\n\u001b[0;32m--> 212\u001b[0;31m                                                                  feed_dict=feed_dict)\n\u001b[0m\u001b[1;32m    213\u001b[0m                     \u001b[0mself\u001b[0m\u001b[0;34m.\u001b[0m\u001b[0mtrain_loss\u001b[0m\u001b[0;34m.\u001b[0m\u001b[0mappend\u001b[0m\u001b[0;34m(\u001b[0m\u001b[0m_loss\u001b[0m\u001b[0;34m)\u001b[0m\u001b[0;34m\u001b[0m\u001b[0m\n\u001b[1;32m    214\u001b[0m                     \u001b[0mself\u001b[0m\u001b[0;34m.\u001b[0m\u001b[0mtrain_accuracy\u001b[0m\u001b[0;34m.\u001b[0m\u001b[0mappend\u001b[0m\u001b[0;34m(\u001b[0m\u001b[0m_accuracy\u001b[0m\u001b[0;34m)\u001b[0m\u001b[0;34m\u001b[0m\u001b[0m\n",
      "\u001b[0;32m~/.conda/envs/tensorflow/lib/python3.6/site-packages/tensorflow/python/client/session.py\u001b[0m in \u001b[0;36mrun\u001b[0;34m(self, fetches, feed_dict, options, run_metadata)\u001b[0m\n\u001b[1;32m    893\u001b[0m     \u001b[0;32mtry\u001b[0m\u001b[0;34m:\u001b[0m\u001b[0;34m\u001b[0m\u001b[0m\n\u001b[1;32m    894\u001b[0m       result = self._run(None, fetches, feed_dict, options_ptr,\n\u001b[0;32m--> 895\u001b[0;31m                          run_metadata_ptr)\n\u001b[0m\u001b[1;32m    896\u001b[0m       \u001b[0;32mif\u001b[0m \u001b[0mrun_metadata\u001b[0m\u001b[0;34m:\u001b[0m\u001b[0;34m\u001b[0m\u001b[0m\n\u001b[1;32m    897\u001b[0m         \u001b[0mproto_data\u001b[0m \u001b[0;34m=\u001b[0m \u001b[0mtf_session\u001b[0m\u001b[0;34m.\u001b[0m\u001b[0mTF_GetBuffer\u001b[0m\u001b[0;34m(\u001b[0m\u001b[0mrun_metadata_ptr\u001b[0m\u001b[0;34m)\u001b[0m\u001b[0;34m\u001b[0m\u001b[0m\n",
      "\u001b[0;32m~/.conda/envs/tensorflow/lib/python3.6/site-packages/tensorflow/python/client/session.py\u001b[0m in \u001b[0;36m_run\u001b[0;34m(self, handle, fetches, feed_dict, options, run_metadata)\u001b[0m\n\u001b[1;32m   1122\u001b[0m     \u001b[0;32mif\u001b[0m \u001b[0mfinal_fetches\u001b[0m \u001b[0;32mor\u001b[0m \u001b[0mfinal_targets\u001b[0m \u001b[0;32mor\u001b[0m \u001b[0;34m(\u001b[0m\u001b[0mhandle\u001b[0m \u001b[0;32mand\u001b[0m \u001b[0mfeed_dict_tensor\u001b[0m\u001b[0;34m)\u001b[0m\u001b[0;34m:\u001b[0m\u001b[0;34m\u001b[0m\u001b[0m\n\u001b[1;32m   1123\u001b[0m       results = self._do_run(handle, final_targets, final_fetches,\n\u001b[0;32m-> 1124\u001b[0;31m                              feed_dict_tensor, options, run_metadata)\n\u001b[0m\u001b[1;32m   1125\u001b[0m     \u001b[0;32melse\u001b[0m\u001b[0;34m:\u001b[0m\u001b[0;34m\u001b[0m\u001b[0m\n\u001b[1;32m   1126\u001b[0m       \u001b[0mresults\u001b[0m \u001b[0;34m=\u001b[0m \u001b[0;34m[\u001b[0m\u001b[0;34m]\u001b[0m\u001b[0;34m\u001b[0m\u001b[0m\n",
      "\u001b[0;32m~/.conda/envs/tensorflow/lib/python3.6/site-packages/tensorflow/python/client/session.py\u001b[0m in \u001b[0;36m_do_run\u001b[0;34m(self, handle, target_list, fetch_list, feed_dict, options, run_metadata)\u001b[0m\n\u001b[1;32m   1319\u001b[0m     \u001b[0;32mif\u001b[0m \u001b[0mhandle\u001b[0m \u001b[0;32mis\u001b[0m \u001b[0;32mNone\u001b[0m\u001b[0;34m:\u001b[0m\u001b[0;34m\u001b[0m\u001b[0m\n\u001b[1;32m   1320\u001b[0m       return self._do_call(_run_fn, self._session, feeds, fetches, targets,\n\u001b[0;32m-> 1321\u001b[0;31m                            options, run_metadata)\n\u001b[0m\u001b[1;32m   1322\u001b[0m     \u001b[0;32melse\u001b[0m\u001b[0;34m:\u001b[0m\u001b[0;34m\u001b[0m\u001b[0m\n\u001b[1;32m   1323\u001b[0m       \u001b[0;32mreturn\u001b[0m \u001b[0mself\u001b[0m\u001b[0;34m.\u001b[0m\u001b[0m_do_call\u001b[0m\u001b[0;34m(\u001b[0m\u001b[0m_prun_fn\u001b[0m\u001b[0;34m,\u001b[0m \u001b[0mself\u001b[0m\u001b[0;34m.\u001b[0m\u001b[0m_session\u001b[0m\u001b[0;34m,\u001b[0m \u001b[0mhandle\u001b[0m\u001b[0;34m,\u001b[0m \u001b[0mfeeds\u001b[0m\u001b[0;34m,\u001b[0m \u001b[0mfetches\u001b[0m\u001b[0;34m)\u001b[0m\u001b[0;34m\u001b[0m\u001b[0m\n",
      "\u001b[0;32m~/.conda/envs/tensorflow/lib/python3.6/site-packages/tensorflow/python/client/session.py\u001b[0m in \u001b[0;36m_do_call\u001b[0;34m(self, fn, *args)\u001b[0m\n\u001b[1;32m   1325\u001b[0m   \u001b[0;32mdef\u001b[0m \u001b[0m_do_call\u001b[0m\u001b[0;34m(\u001b[0m\u001b[0mself\u001b[0m\u001b[0;34m,\u001b[0m \u001b[0mfn\u001b[0m\u001b[0;34m,\u001b[0m \u001b[0;34m*\u001b[0m\u001b[0margs\u001b[0m\u001b[0;34m)\u001b[0m\u001b[0;34m:\u001b[0m\u001b[0;34m\u001b[0m\u001b[0m\n\u001b[1;32m   1326\u001b[0m     \u001b[0;32mtry\u001b[0m\u001b[0;34m:\u001b[0m\u001b[0;34m\u001b[0m\u001b[0m\n\u001b[0;32m-> 1327\u001b[0;31m       \u001b[0;32mreturn\u001b[0m \u001b[0mfn\u001b[0m\u001b[0;34m(\u001b[0m\u001b[0;34m*\u001b[0m\u001b[0margs\u001b[0m\u001b[0;34m)\u001b[0m\u001b[0;34m\u001b[0m\u001b[0m\n\u001b[0m\u001b[1;32m   1328\u001b[0m     \u001b[0;32mexcept\u001b[0m \u001b[0merrors\u001b[0m\u001b[0;34m.\u001b[0m\u001b[0mOpError\u001b[0m \u001b[0;32mas\u001b[0m \u001b[0me\u001b[0m\u001b[0;34m:\u001b[0m\u001b[0;34m\u001b[0m\u001b[0m\n\u001b[1;32m   1329\u001b[0m       \u001b[0mmessage\u001b[0m \u001b[0;34m=\u001b[0m \u001b[0mcompat\u001b[0m\u001b[0;34m.\u001b[0m\u001b[0mas_text\u001b[0m\u001b[0;34m(\u001b[0m\u001b[0me\u001b[0m\u001b[0;34m.\u001b[0m\u001b[0mmessage\u001b[0m\u001b[0;34m)\u001b[0m\u001b[0;34m\u001b[0m\u001b[0m\n",
      "\u001b[0;32m~/.conda/envs/tensorflow/lib/python3.6/site-packages/tensorflow/python/client/session.py\u001b[0m in \u001b[0;36m_run_fn\u001b[0;34m(session, feed_dict, fetch_list, target_list, options, run_metadata)\u001b[0m\n\u001b[1;32m   1304\u001b[0m           return tf_session.TF_Run(session, options,\n\u001b[1;32m   1305\u001b[0m                                    \u001b[0mfeed_dict\u001b[0m\u001b[0;34m,\u001b[0m \u001b[0mfetch_list\u001b[0m\u001b[0;34m,\u001b[0m \u001b[0mtarget_list\u001b[0m\u001b[0;34m,\u001b[0m\u001b[0;34m\u001b[0m\u001b[0m\n\u001b[0;32m-> 1306\u001b[0;31m                                    status, run_metadata)\n\u001b[0m\u001b[1;32m   1307\u001b[0m \u001b[0;34m\u001b[0m\u001b[0m\n\u001b[1;32m   1308\u001b[0m     \u001b[0;32mdef\u001b[0m \u001b[0m_prun_fn\u001b[0m\u001b[0;34m(\u001b[0m\u001b[0msession\u001b[0m\u001b[0;34m,\u001b[0m \u001b[0mhandle\u001b[0m\u001b[0;34m,\u001b[0m \u001b[0mfeed_dict\u001b[0m\u001b[0;34m,\u001b[0m \u001b[0mfetch_list\u001b[0m\u001b[0;34m)\u001b[0m\u001b[0;34m:\u001b[0m\u001b[0;34m\u001b[0m\u001b[0m\n",
      "\u001b[0;31mKeyboardInterrupt\u001b[0m: "
     ]
    }
   ],
   "source": [
    "model.train(max_steps=1001)"
   ]
  }
 ],
 "metadata": {
  "kernelspec": {
   "display_name": "Python 3 (tensorflow)",
   "language": "python",
   "name": "tensorflow"
  },
  "language_info": {
   "codemirror_mode": {
    "name": "ipython",
    "version": 3
   },
   "file_extension": ".py",
   "mimetype": "text/x-python",
   "name": "python",
   "nbconvert_exporter": "python",
   "pygments_lexer": "ipython3",
   "version": "3.6.2"
  }
 },
 "nbformat": 4,
 "nbformat_minor": 2
}
