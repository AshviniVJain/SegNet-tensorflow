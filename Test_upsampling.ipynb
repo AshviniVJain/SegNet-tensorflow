{
 "cells": [
  {
   "cell_type": "code",
   "execution_count": 1,
   "metadata": {
    "collapsed": true
   },
   "outputs": [],
   "source": [
    "#Test unravel and also upsampling method!\n",
    "import tensorflow as tf\n",
    "import numpy as np\n",
    "\n",
    "\n",
    "def max_pool(inputs,name):\n",
    "    value,index = tf.nn.max_pool_with_argmax(tf.to_double(inputs),ksize=[1,2,2,1],strides=[1,2,2,1],padding='SAME',name=name)\n",
    "    print('value shape',value.shape)\n",
    "    print('index shape',index.shape)\n",
    "    \n",
    "    return value,index\n",
    "\n",
    "\n",
    "\n",
    "def unravel_index(indices, shape):\n",
    "    with tf.name_scope('unravel_index'):\n",
    "        indices = tf.to_int64(tf.expand_dims(indices, 0))\n",
    "        shape = tf.to_int64(tf.expand_dims(shape, 1))\n",
    "        strides = tf.to_int64(tf.cumprod(shape, reverse=True))\n",
    "        strides_shifted = tf.to_int64(tf.cumprod(shape, exclusive=True, reverse=True))\n",
    "        return (indices % strides) // strides_shifted\n",
    "    #This function is utilized to transform the flattened maxpooling index to the original 4D tensor, and have already test\n",
    "    #it, which works brilliant!\n",
    "    \"\"\"\n",
    "    indices: indices will be the output index from maxpooling, just to make sure if it's only 1D!\n",
    "    Shape: the shape of the original data,[batch_size,height,width,Num_of_Channels]\n",
    "    output: It's the 4D maxpooling indices!\n",
    "    \"\"\"\n",
    "    \n",
    "def up_sampling(value,indices,shape):\n",
    "    \"\"\"\n",
    "    Inputs:\n",
    "    value: the maximum value from maxpooling function, value need to be a tensor. The most important thing for\n",
    "    value is that it needs to be reshaped to be only one column! \n",
    "    indices: the flattened position for the maximum value from maxpooling function. Also indices need to be reshaped\n",
    "    to be two dimension. [Num_tot_values,4]. 4 is because we have 4 dimension\n",
    "    shape: the shape of the original data, [batch_size,height,width,Num_of_Channels]\n",
    "    Outputs:\n",
    "    up_sample_sp: The sparse matrix from the up_sampling.\n",
    "    \"\"\"\n",
    "    tot = np.prod(value.shape) #product of all sizes\n",
    "    value_reshape = tf.reshape(value,[tot])\n",
    "    index_reshape = tf.reshape(indices,[1,tot])\n",
    "    print('The shape of reshaped maxvalue',value_reshape.shape)\n",
    "    print('The shape of reshaped maxindex',index_reshape.shape)\n",
    "    pooling_index_4d = unravel_index(index_reshape,shape)\n",
    "    print('The shape of 4d indices', pooling_index_4d.shape)\n",
    "    s = tf.Session()\n",
    "    sp_tensor = tf.SparseTensor(tf.reshape(pooling_index_4d,\n",
    "                                           [pooling_index_4d.shape[2].value,\n",
    "                                            pooling_index_4d.shape[1].value]),\n",
    "                                            values = value_reshape, dense_shape = shape)\n",
    "    sp_dense = tf.sparse_tensor_to_dense(sp_tensor)\n",
    "    print('The sp_dense?',s.run(sp_dense))\n",
    "    print('The shape of sparse matrix', sp_dense.shape)\n",
    "    return s.run(sp_dense) \n"
   ]
  },
  {
   "cell_type": "code",
   "execution_count": 8,
   "metadata": {
    "scrolled": false
   },
   "outputs": [
    {
     "name": "stdout",
     "output_type": "stream",
     "text": [
      "[[[[   1    0]\n",
      "   [   2    0]\n",
      "   [   3    0]\n",
      "   [ 400    0]\n",
      "   [   5    0]]\n",
      "\n",
      "  [[ 600    0]\n",
      "   [   7    0]\n",
      "   [   8    0]\n",
      "   [   9    0]\n",
      "   [1000    0]]\n",
      "\n",
      "  [[  11    0]\n",
      "   [1200    0]\n",
      "   [1300    0]\n",
      "   [  14    0]\n",
      "   [  15    0]]\n",
      "\n",
      "  [[  16    0]\n",
      "   [  17    0]\n",
      "   [  18    0]\n",
      "   [  19    0]\n",
      "   [2000    0]]\n",
      "\n",
      "  [[  21    0]\n",
      "   [2200    0]\n",
      "   [2300    0]\n",
      "   [  24    0]\n",
      "   [2500    0]]]]\n",
      "value shape (1, 3, 3, 2)\n",
      "index shape (1, 3, 3, 2)\n",
      "Tensor(\"PLAY_2:0\", shape=(1, 3, 3, 2), dtype=float64)\n",
      "Tensor(\"PLAY_2:1\", shape=(1, 3, 3, 2), dtype=int64)\n"
     ]
    }
   ],
   "source": [
    "# let's assume that inputs is a matrix which is 4D matrix, the dimension is (Num_Batch, width, height, Num_channel)\n",
    "shape = [1,5,5,2]\n",
    "temp = np.array([[[[1,0],[2,0],[3,0],[400,0],[5,0]],[[600,0],[7,0],[8,0],[9,0],[1000,0]],[[11,0],[1200,0],[1300,0],[14,0],[15,0]],[[16,0],[17,0],[18,0],[19,0],[2000,0]],[[21,0],[2200,0],[2300,0],[24,0],[2500,0]]]])\n",
    "print(temp)\n",
    "max_values, max_indices = max_pool(temp,name='PLAY')\n",
    "print(max_values)\n",
    "print(max_indices)"
   ]
  },
  {
   "cell_type": "code",
   "execution_count": 11,
   "metadata": {
    "scrolled": false
   },
   "outputs": [
    {
     "name": "stdout",
     "output_type": "stream",
     "text": [
      "The shape of reshaped maxvalue (18,)\n",
      "The shape of reshaped maxindex (18,)\n",
      "The shape of 4d indices (18, 4)\n",
      "SparseTensorValue(indices=array([[0, 1, 0, 0],\n",
      "       [0, 0, 0, 1],\n",
      "       [0, 0, 3, 0],\n",
      "       [0, 0, 2, 1],\n",
      "       [0, 1, 4, 0],\n",
      "       [0, 0, 4, 1],\n",
      "       [0, 2, 1, 0],\n",
      "       [0, 2, 0, 1],\n",
      "       [0, 2, 2, 0],\n",
      "       [0, 2, 2, 1],\n",
      "       [0, 3, 4, 0],\n",
      "       [0, 2, 4, 1],\n",
      "       [0, 4, 1, 0],\n",
      "       [0, 4, 0, 1],\n",
      "       [0, 4, 2, 0],\n",
      "       [0, 4, 2, 1],\n",
      "       [0, 4, 4, 0],\n",
      "       [0, 4, 4, 1]]), values=array([  600.,     0.,   400.,     0.,  1000.,     0.,  1200.,     0.,\n",
      "        1300.,     0.,  2000.,     0.,  2200.,     0.,  2300.,     0.,\n",
      "        2500.,     0.]), dense_shape=array([1, 5, 5, 2]))\n"
     ]
    }
   ],
   "source": [
    "values_reshape = tf.reshape(max_values,[-1])\n",
    "indices_reshape = tf.reshape(max_indices,[-1])\n",
    "print('The shape of reshaped maxvalue',values_reshape.shape)\n",
    "print('The shape of reshaped maxindex',indices_reshape.shape)\n",
    "pooling_index_4d = tf.stack(tf.unstack(unravel_index(indices_reshape,shape), axis=0), axis=1)\n",
    "print('The shape of 4d indices', pooling_index_4d.shape)\n",
    "with tf.Session() as sess:\n",
    "    sp_tensor = tf.SparseTensor(pooling_index_4d, values = values_reshape, dense_shape = shape)\n",
    "    #sp_dense = tf.sparse_tensor_to_dense(sp_tensor)\n",
    "    #sess.run(sp_dense)\n",
    "    print(sess.run(sp_tensor))"
   ]
  },
  {
   "cell_type": "code",
   "execution_count": 4,
   "metadata": {},
   "outputs": [
    {
     "name": "stdout",
     "output_type": "stream",
     "text": [
      "Tensor(\"unravel_index_1/floordiv:0\", shape=(2, 9), dtype=int64)\n",
      "[[0 1 2 2 2 4 4 4 0]\n",
      " [4 1 0 2 3 0 2 3 0]]\n"
     ]
    }
   ],
   "source": [
    "s = tf.Session()\n",
    "out = unravel_index([4, 6, 10, 12, 13, 20, 22, 23, 25], (5, 5))\n",
    "print(out)\n",
    "print(s.run(out))"
   ]
  }
 ],
 "metadata": {
  "kernelspec": {
   "display_name": "Python 3 (tensorflow)",
   "language": "python",
   "name": "tensorflow"
  },
  "language_info": {
   "codemirror_mode": {
    "name": "ipython",
    "version": 3
   },
   "file_extension": ".py",
   "mimetype": "text/x-python",
   "name": "python",
   "nbconvert_exporter": "python",
   "pygments_lexer": "ipython3",
   "version": "3.6.2"
  }
 },
 "nbformat": 4,
 "nbformat_minor": 2
}
